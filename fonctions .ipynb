{
 "cells": [
  {
   "cell_type": "code",
   "execution_count": 2,
   "id": "d84b3267",
   "metadata": {},
   "outputs": [
    {
     "name": "stdout",
     "output_type": "stream",
     "text": [
      "hello word it's my first function\n"
     ]
    }
   ],
   "source": [
    "def function_name():\n",
    "    print(\"hello word it's my first function\")\n",
    "function_name()"
   ]
  },
  {
   "cell_type": "code",
   "execution_count": 5,
   "id": "dbf145d0",
   "metadata": {},
   "outputs": [
    {
     "name": "stdout",
     "output_type": "stream",
     "text": [
      "i want to learn to code\n",
      "i want to learn helloo\n"
     ]
    }
   ],
   "source": [
    "def function_name(parameter):\n",
    "    print(\"i want to learn \"+parameter)\n",
    "function_name(\"to code\")\n",
    "function_name(\"helloo\")"
   ]
  },
  {
   "cell_type": "code",
   "execution_count": 13,
   "id": "0de9c8d7",
   "metadata": {},
   "outputs": [
    {
     "name": "stdout",
     "output_type": "stream",
     "text": [
      "4\n"
     ]
    }
   ],
   "source": [
    "def length(liste):\n",
    "    s=0\n",
    "    for i in liste:\n",
    "        s+=1\n",
    "    return(s)\n",
    "a=[1,2,3,4]\n",
    "print(length(a))"
   ]
  },
  {
   "cell_type": "code",
   "execution_count": 9,
   "id": "847a39ad",
   "metadata": {},
   "outputs": [
    {
     "name": "stdout",
     "output_type": "stream",
     "text": [
      "2\n"
     ]
    }
   ],
   "source": [
    "b=[1,2]\n",
    "print(length(b))"
   ]
  },
  {
   "cell_type": "code",
   "execution_count": 18,
   "id": "80fcbff9",
   "metadata": {},
   "outputs": [
    {
     "name": "stdout",
     "output_type": "stream",
     "text": [
      "i am from france\n",
      "i am from england\n",
      "i am from Algeria\n"
     ]
    }
   ],
   "source": [
    "def my_function(country=\"Algeria\"):\n",
    "    print(\"i am from \" +country)\n",
    "my_function(\"france\")\n",
    "my_function(\"england\")\n",
    "my_function()\n"
   ]
  },
  {
   "cell_type": "code",
   "execution_count": 19,
   "id": "8ffaf3cc",
   "metadata": {},
   "outputs": [
    {
     "name": "stdout",
     "output_type": "stream",
     "text": [
      "117\n",
      "4\n"
     ]
    }
   ],
   "source": [
    "def operations(x,y,z):\n",
    "    print((x+y)*z)\n",
    "operations(6,7,9)\n",
    "operations(1,0,4)"
   ]
  },
  {
   "cell_type": "code",
   "execution_count": 22,
   "id": "3c436df9",
   "metadata": {},
   "outputs": [
    {
     "name": "stdout",
     "output_type": "stream",
     "text": [
      "3\n",
      "6\n",
      "1\n",
      "9\n"
     ]
    }
   ],
   "source": [
    "def operations():\n",
    "    x=int(input())\n",
    "    y=int(input())\n",
    "    z=int(input())\n",
    "    print((x+y)*z)\n",
    "operations()"
   ]
  },
  {
   "cell_type": "code",
   "execution_count": 23,
   "id": "01cac94f",
   "metadata": {},
   "outputs": [
    {
     "name": "stdout",
     "output_type": "stream",
     "text": [
      "11\n"
     ]
    }
   ],
   "source": [
    "sum= lambda a,b,c: a+b+c\n",
    "print(sum(2,6,3))\n"
   ]
  },
  {
   "cell_type": "code",
   "execution_count": null,
   "id": "95e649b8",
   "metadata": {},
   "outputs": [],
   "source": [
    "#question3 \n",
    "def somme (listep):\n",
    "    somm=0\n",
    "    for i in range (len(listep)):\n",
    "        somm+=listep[i]\n",
    "    return (somm)\n",
    "#fct multiplication\n",
    "de mull(listem):\n",
    "    prod=1\n",
    "    for i in range(len(listem)):\n",
    "        prod *=listem[i]\n",
    "    return prod\n",
    "\n",
    "\n",
    "    \n"
   ]
  }
 ],
 "metadata": {
  "kernelspec": {
   "display_name": "Python 3 (ipykernel)",
   "language": "python",
   "name": "python3"
  },
  "language_info": {
   "codemirror_mode": {
    "name": "ipython",
    "version": 3
   },
   "file_extension": ".py",
   "mimetype": "text/x-python",
   "name": "python",
   "nbconvert_exporter": "python",
   "pygments_lexer": "ipython3",
   "version": "3.9.12"
  }
 },
 "nbformat": 4,
 "nbformat_minor": 5
}
